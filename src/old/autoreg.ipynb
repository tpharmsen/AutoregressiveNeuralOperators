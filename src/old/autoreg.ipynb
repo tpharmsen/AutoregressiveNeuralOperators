{
 "cells": [
  {
   "cell_type": "code",
   "execution_count": 1,
   "metadata": {},
   "outputs": [
    {
     "name": "stdout",
     "output_type": "stream",
     "text": [
      "CUDA Available:  True\n",
      "C:\\Users\\20183172\n",
      "C:\\Users\\20183172\\Documents\\2024-II\\prep\\AutoregressiveNeuralOperators\n"
     ]
    }
   ],
   "source": [
    "import numpy as np\n",
    "import matplotlib.pyplot as plt\n",
    "from matplotlib.widgets import Slider\n",
    "import torch\n",
    "from torch.utils.data import TensorDataset, DataLoader\n",
    "from matplotlib import animation\n",
    "import torch.nn as nn\n",
    "import torch.nn.functional as F\n",
    "import os\n",
    "import wandb\n",
    "import cProfile\n",
    "import pstats\n",
    "\n",
    "from FNO import FNOModel\n",
    "from UNet import UNet3D\n",
    "from utils import *\n",
    "\n",
    "print(\"CUDA Available: \", torch.cuda.is_available())\n",
    "\n",
    "%cd\n",
    "pathToFolderPC = r'\\Documents\\2024-II\\AutoregressiveNeuralOperators'\n",
    "pathToFolderLAPTOP = r'Documents\\2024-II\\prep\\AutoregressiveNeuralOperators'\n",
    "\n",
    "%cd $pathToFolderLAPTOP\n",
    "#%cd $pathToFolderPC\n",
    "\n",
    "trainingOn = False\n",
    "modeltype = 'FNO' # 'FNO' or 'UNet'"
   ]
  },
  {
   "cell_type": "markdown",
   "metadata": {},
   "source": [
    "# To do\n",
    "- Investigate OG dataset\n",
    "- Create FeNics Env Snellius\n",
    "- Use SIMM loss instead of MSE?\n",
    "- Fix issue pushforward training \n",
    "- Create new environment called grad\n",
    "\n",
    "\n",
    "# Done\n",
    "- Make NS dataset\n",
    "- Make FNO\n",
    "- Make model autoregressive + pushforward\n",
    "- Rollout -> only loss at final step\n",
    "- Make Simple U-Net\n",
    "- Setup WandB\n",
    "- Get snellius credits\n",
    "- Setup small repo\n",
    "- Test num_workers= and pin_memory=\n",
    "- Create gifmaker\n",
    "- Get OG dataset"
   ]
  },
  {
   "cell_type": "code",
   "execution_count": null,
   "metadata": {},
   "outputs": [
    {
     "data": {
      "text/plain": [
       "(40, 32, 32, 50)"
      ]
     },
     "execution_count": 2,
     "metadata": {},
     "output_type": "execute_result"
    }
   ],
   "source": [
    "pathToData = r'data\\t1-t50VorticityZ-32x32-v1e-3-T50-N40.npy'\n",
    "data = np.load(pathToData)\n",
    "data.shape"
   ]
  },
  {
   "cell_type": "code",
   "execution_count": 3,
   "metadata": {},
   "outputs": [
    {
     "name": "stdout",
     "output_type": "stream",
     "text": [
      "torch.Size([40, 32, 32, 10]) torch.Size([40, 32, 32, 10])\n",
      "40\n"
     ]
    }
   ],
   "source": [
    "tensorFormat = torch.tensor(data, dtype=torch.float32)\n",
    "distribution=[0.8, 0.15, 0.05]\n",
    "timeDistribution=[0.2, 0.8]\n",
    "\n",
    "nSamples = len(tensorFormat)\n",
    "bigT = 10\n",
    "tensorFormatX, tensorFormatY = (\n",
    "    tensorFormat[..., :bigT],\n",
    "    tensorFormat[..., -bigT:],\n",
    ")\n",
    "print(tensorFormatX.shape, tensorFormatY.shape)\n",
    "print(tensorFormat.shape[-1]-bigT)"
   ]
  },
  {
   "cell_type": "code",
   "execution_count": 4,
   "metadata": {},
   "outputs": [
    {
     "name": "stdout",
     "output_type": "stream",
     "text": [
      "torch.Size([32, 32, 32, 10]) torch.Size([6, 32, 32, 10]) torch.Size([2, 32, 32, 10])\n",
      "torch.Size([32, 32, 32, 10]) torch.Size([6, 32, 32, 10]) torch.Size([2, 32, 32, 10])\n",
      "torch.Size([32, 32, 32, 50])\n"
     ]
    }
   ],
   "source": [
    "trainingIdx, validationIdx, _ = [int(nSamples * k) for k in distribution]\n",
    "trainingX, validationX, testX = (\n",
    "    tensorFormatX[:trainingIdx, ...],\n",
    "    tensorFormatX[trainingIdx : trainingIdx + validationIdx, ...],\n",
    "    tensorFormatX[trainingIdx + validationIdx :, ...],\n",
    ")\n",
    "\n",
    "trainingY, validationY, testY = (\n",
    "    tensorFormatY[:trainingIdx, ...],\n",
    "    tensorFormatY[trainingIdx : trainingIdx + validationIdx, ...],\n",
    "    tensorFormatY[trainingIdx + validationIdx :, ...],\n",
    ")\n",
    "print(trainingX.shape, validationX.shape, testX.shape)\n",
    "print(trainingY.shape, validationY.shape, testY.shape)\n",
    "\n",
    "fullValidationData = tensorFormat[trainingIdx : trainingIdx + validationIdx, ...]\n",
    "fullTrainingData = tensorFormat[:trainingIdx, ...].clone()\n",
    "print(fullTrainingData.shape)"
   ]
  },
  {
   "cell_type": "code",
   "execution_count": 5,
   "metadata": {},
   "outputs": [
    {
     "name": "stdout",
     "output_type": "stream",
     "text": [
      "torch.Size([32, 32, 32, 10]) torch.Size([32, 32, 32, 10])\n"
     ]
    }
   ],
   "source": [
    "#trainingX = trainingX.unsqueeze_(3).expand(-1, -1, -1, bigT, -1)\n",
    "training = TensorDataset(trainingX, trainingY)\n",
    "print(trainingX.shape, trainingY.shape)\n",
    "\n",
    "#validationX = validationX.unsqueeze_(3).expand(-1, -1, -1, bigT, -1)\n",
    "validation = TensorDataset(validationX, validationY)\n",
    "\n",
    "#testX = testX.unsqueeze_(3).expand(-1, -1, -1, bigT, -1)\n",
    "test = TensorDataset(testX, testY)"
   ]
  },
  {
   "cell_type": "code",
   "execution_count": 6,
   "metadata": {},
   "outputs": [],
   "source": [
    "gpuForLoader = [False, True]\n",
    "workers = [1,1,2,4,8,12]\n",
    "#numworkersTest(training, workers, 8)"
   ]
  },
  {
   "cell_type": "code",
   "execution_count": 7,
   "metadata": {},
   "outputs": [],
   "source": [
    "batchSize = 8\n",
    "shuffleTraining = True\n",
    "trainingDataLoader = DataLoader(\n",
    "    training, batch_size=batchSize, shuffle=shuffleTraining, num_workers=1, pin_memory=True#2\n",
    ")\n",
    "\n",
    "validationDataLoader = DataLoader(\n",
    "    validation, batch_size=batchSize, shuffle=False, num_workers=1, pin_memory=True\n",
    ")\n",
    "\n",
    "testDataLoader = DataLoader(\n",
    "    test, batch_size=batchSize, shuffle=False, num_workers=1, pin_memory=True)"
   ]
  },
  {
   "cell_type": "code",
   "execution_count": 8,
   "metadata": {},
   "outputs": [
    {
     "data": {
      "image/png": "[encoded data removed]",
      "text/plain": [
       "<Figure size 1000x500 with 8 Axes>"
      ]
     },
     "metadata": {},
     "output_type": "display_data"
    }
   ],
   "source": [
    "fig, ax = plt.subplots(2, 4, figsize=(10, 5))\n",
    "ax[0,0].imshow(trainingX[0, :, :, 0], cmap='viridis')\n",
    "ax[0,1].imshow(trainingX[0, :, :, 1], cmap='viridis')\n",
    "ax[0,2].imshow(trainingX[0, :, :, 2], cmap='viridis')\n",
    "ax[0,3].imshow(trainingX[0, :, :, 3], cmap='viridis')\n",
    "ax[1,0].imshow(trainingY[0, :, :, 0], cmap='viridis')\n",
    "ax[1,1].imshow(trainingY[0, :, :, 1], cmap='viridis')\n",
    "ax[1,2].imshow(trainingY[0, :, :, 5], cmap='viridis')\n",
    "ax[1,3].imshow(trainingY[0, :, :, 9], cmap='viridis')\n",
    "plt.tight_layout()\n",
    "plt.show()"
   ]
  },
  {
   "cell_type": "code",
   "execution_count": 13,
   "metadata": {},
   "outputs": [],
   "source": [
    "if modeltype == 'FNO':\n",
    "    model = FNOModel(\n",
    "        in_neurons=20, hidden_neurons=20, out_neurons=20, modesSpace=8, modesTime=8, time_padding=8, input_size = 13, \n",
    "        learning_rate=0.001, restart_at_epoch_n=0, train_loader=trainingDataLoader, loss_function='MSE'\n",
    "    )\n",
    "    device = torch.device(\"cuda\" if torch.cuda.is_available() else \"cpu\")\n",
    "    model.to(device)\n",
    "    model.optimizer = torch.optim.Adam(model.parameters())"
   ]
  },
  {
   "cell_type": "code",
   "execution_count": 14,
   "metadata": {},
   "outputs": [],
   "source": [
    "if trainingOn and modeltype == 'FNO':\n",
    "    epochs = 30\n",
    "    wandb.init(project=\"testFNO\", config={\n",
    "        \"epochs\": epochs,\n",
    "        \"learning_rate\": model.learning_rate,\n",
    "        \"loss_function\": model.loss_name,\n",
    "    })\n",
    "\n",
    "    for epoch in range(epochs):\n",
    "        train_loss = 0\n",
    "        model.train()\n",
    "        for batch_idx, (x, y) in enumerate(trainingDataLoader):\n",
    "            x, y = x.to(device), y.to(device)\n",
    "            #print(x.shape)\n",
    "            \n",
    "            with torch.no_grad():\n",
    "                for tstep in range(1, 4):\n",
    "                    \n",
    "                    x = x.unsqueeze_(3).expand(-1, -1, -1, bigT, -1)\n",
    "                    meshgrid = get_meshgrid(x.shape, tstep).to(x.device)\n",
    "                    x = torch.concat((x, meshgrid), dim=-1)  # [B, X, Y, T, 3 + T_in]\n",
    "                    y_hat = model(x)\n",
    "                    x = y_hat  \n",
    "            \n",
    "            tstep = 4\n",
    "            x = x.unsqueeze_(3).expand(-1, -1, -1, bigT, -1)\n",
    "            meshgrid = get_meshgrid(x.shape, tstep).to(x.device)\n",
    "            x = torch.concat((x, meshgrid), dim=-1) \n",
    "            \n",
    "            model.optimizer.zero_grad()\n",
    "            y_hat = model(x)\n",
    "            train_loss = model.loss_function(y_hat, y)\n",
    "            train_loss.backward()\n",
    "            model.optimizer.step()\n",
    "            \n",
    "            train_loss += train_loss.item()  \n",
    "        avg_train_loss = train_loss / len(trainingDataLoader)\n",
    "        print(train_loss, len(trainingDataLoader))\n",
    "\n",
    "        model.eval()\n",
    "        mean_val_loss = 0\n",
    "        with torch.no_grad():\n",
    "            for batch_idx, (x, y) in enumerate(validationDataLoader):\n",
    "                #print(x.shape)\n",
    "                x, y = x.to(device), y.to(device)\n",
    "                for tstep in range(1, 5):\n",
    "                    x = x.unsqueeze_(3).expand(-1, -1, -1, bigT, -1)\n",
    "                    meshgrid = get_meshgrid(x.shape, tstep).to(x.device)\n",
    "                    x = torch.concat((x, meshgrid), dim=-1) \n",
    "                    y_hat = model(x)\n",
    "                    x = y_hat \n",
    "\n",
    "                val_loss = model.loss_function(y_hat, y)\n",
    "                val_loss += val_loss.item()\n",
    "            avg_val_loss = val_loss / len(validationDataLoader)\n",
    "        print(val_loss, len(validationDataLoader))\n",
    "\n",
    "        wandb.log({\n",
    "                \"epoch\": epoch + 1,\n",
    "                \"train_loss\": avg_train_loss,\n",
    "                \"val_loss\": avg_val_loss,\n",
    "            })\n",
    "\n",
    "        print(f\"Epoch [{epoch+1}/{epochs}] - Train Loss: {avg_train_loss:.4f} - Val Loss: {avg_val_loss:.4f}\")\n",
    "\n",
    "    wandb.finish()\n"
   ]
  },
  {
   "cell_type": "code",
   "execution_count": 15,
   "metadata": {},
   "outputs": [],
   "source": [
    "if modeltype == 'UNet':\n",
    "    model = UNet3D(in_neurons=1, out_neurons=1)\n",
    "    x = torch.randn(4, 32, 32, 10) \n",
    "    x.unsqueeze_(1) # add dimension for the channels\n",
    "    output = model(x)\n",
    "    print(f\"Input shape: {x.shape}, Output shape: {output.shape}\")\n",
    "\n",
    "    device = torch.device(\"cuda\" if torch.cuda.is_available() else \"cpu\")\n",
    "    model.to(device)\n",
    "    model.optimizer = torch.optim.Adam(model.parameters())"
   ]
  },
  {
   "cell_type": "code",
   "execution_count": 16,
   "metadata": {},
   "outputs": [],
   "source": [
    "if trainingOn and modeltype == 'UNet':\n",
    "    epochs = 200\n",
    "    wandb.init(project=\"testUNet\", config={\n",
    "        \"epochs\": epochs,\n",
    "        \"loss_function\": model.loss_function, \n",
    "    })\n",
    "\n",
    "    for epoch in range(epochs):\n",
    "        train_loss = 0\n",
    "        model.train()\n",
    "        for batch_idx, (x, y) in enumerate(trainingDataLoader):\n",
    "            x, y = x.to(device), y.to(device)\n",
    "            #print(x.shape)\n",
    "            \n",
    "            with torch.no_grad():\n",
    "                for tstep in range(1, 4):\n",
    "                    # Expand and append meshgrid\n",
    "                    #x = x.unsqueeze_(3).expand(-1, -1, -1, bigT, -1)\n",
    "                    #meshgrid = get_meshgrid(x.shape, tstep).to(x.device)\n",
    "                    #x = torch.concat((x, meshgrid), dim=-1)  # [B, X, Y, T, 3 + T_in]\n",
    "                    #print(x.shape)\n",
    "                    x.unsqueeze_(1)\n",
    "                    y_hat = model(x)\n",
    "                    #print(y_hat.shape)\n",
    "                    x = y_hat  \n",
    "                    \n",
    "            tstep = 4\n",
    "            #x = x.unsqueeze_(3).expand(-1, -1, -1, bigT, -1)\n",
    "            #meshgrid = get_meshgrid(x.shape, tstep).to(x.device)\n",
    "            #x = torch.concat((x, meshgrid), dim=-1)  # [B, X, Y, T, 3 + T_in]\n",
    "            \n",
    "            model.optimizer.zero_grad()\n",
    "            x.unsqueeze_(1)\n",
    "            y_hat = model(x)\n",
    "            #print(y_hat.shape, y.shape)\n",
    "            train_loss = model.loss_function(y_hat, y)\n",
    "            train_loss.backward()\n",
    "            model.optimizer.step()\n",
    "            \n",
    "            train_loss += train_loss.item()  # Accumulate loss for the epoch\n",
    "        avg_train_loss = train_loss / len(trainingDataLoader)\n",
    "        #print(train_loss, len(trainingDataLoader))\n",
    "\n",
    "        model.eval()\n",
    "        mean_val_loss = 0\n",
    "        with torch.no_grad():\n",
    "            for batch_idx, (x, y) in enumerate(validationDataLoader):\n",
    "                #print(x.shape)\n",
    "                x, y = x.to(device), y.to(device)\n",
    "                for tstep in range(1, 5):\n",
    "                    #x = x.unsqueeze_(3).expand(-1, -1, -1, bigT, -1)\n",
    "                    #meshgrid = get_meshgrid(x.shape, tstep).to(x.device)\n",
    "                    #x = torch.concat((x, meshgrid), dim=-1) \n",
    "                    x.unsqueeze_(1)\n",
    "                    y_hat = model(x)\n",
    "                    x = y_hat \n",
    "\n",
    "                val_loss = model.loss_function(y_hat, y)\n",
    "                val_loss += val_loss.item()\n",
    "            avg_val_loss = val_loss / len(validationDataLoader)\n",
    "        #print(val_loss, len(validationDataLoader))\n",
    "\n",
    "        wandb.log({\n",
    "                \"epoch\": epoch + 1,\n",
    "                \"train_loss\": avg_train_loss,\n",
    "                \"val_loss\": avg_val_loss,\n",
    "            })\n",
    "        print(f\"Epoch [{epoch+1}/{epochs}] - Train Loss: {avg_train_loss:.4f} - Val Loss: {avg_val_loss:.4f}\")\n",
    "\n",
    "    wandb.finish()"
   ]
  },
  {
   "cell_type": "code",
   "execution_count": 17,
   "metadata": {},
   "outputs": [],
   "source": [
    "#torch.save(model.state_dict(), \"models/NS_UNetmodel_v2.pth\")"
   ]
  },
  {
   "cell_type": "code",
   "execution_count": 18,
   "metadata": {},
   "outputs": [
    {
     "name": "stderr",
     "output_type": "stream",
     "text": [
      "C:\\Users\\20183172\\AppData\\Local\\Temp\\ipykernel_9800\\2052891902.py:2: FutureWarning: You are using `torch.load` with `weights_only=False` (the current default value), which uses the default pickle module implicitly. It is possible to construct malicious pickle data which will execute arbitrary code during unpickling (See https://github.com/pytorch/pytorch/blob/main/SECURITY.md#untrusted-models for more details). In a future release, the default value for `weights_only` will be flipped to `True`. This limits the functions that could be executed during unpickling. Arbitrary objects will no longer be allowed to be loaded via this mode unless they are explicitly allowlisted by the user via `torch.serialization.add_safe_globals`. We recommend you start setting `weights_only=True` for any use case where you don't have full control of the loaded file. Please open an issue on GitHub for any issues related to this experimental feature.\n",
      "  model.load_state_dict(torch.load(\"models/NS_FNOmodel_v1.pth\"))\n"
     ]
    }
   ],
   "source": [
    "if modeltype == 'FNO':\n",
    "    model.load_state_dict(torch.load(\"models/NS_FNOmodel_v1.pth\"))\n",
    "    #model.load_state_dict(torch.load(\"models/NS_FNOmodel_v1.pth\", map_location=torch.device('cpu')))\n",
    "elif modeltype == 'UNet':\n",
    "    model.load_state_dict(torch.load(\"models/NS_UNetmodel_v1.pth\"))\n",
    "    #model.load_state_dict(torch.load(\"models/NS_UNetmodel_v1.pth\", map_location=torch.device('cpu')))"
   ]
  },
  {
   "cell_type": "code",
   "execution_count": 24,
   "metadata": {},
   "outputs": [],
   "source": [
    "# rollout code for both models\n",
    "if modeltype == 'FNO':\n",
    "    model.eval()\n",
    "    with torch.no_grad():\n",
    "        for batch_idx, (x, y) in enumerate(trainingDataLoader): \n",
    "        #for batch_idx, (x, y) in enumerate(validationDataLoader):\n",
    "            x, y = x.to(device), y.to(device)\n",
    "            out = x.clone()\n",
    "            for tstep in range(1, 5):\n",
    "                x = x.unsqueeze_(3).expand(-1, -1, -1, bigT, -1)\n",
    "                meshgrid = get_meshgrid(x.shape, tstep).to(device)\n",
    "                x = torch.concat((x, meshgrid), dim=-1) # [B, X, Y, T, 3 + T_in]\n",
    "                y_hat = model(x)\n",
    "                x = y_hat\n",
    "                out = torch.cat((out, x.clone()), dim=-1)\n",
    "            #tstep = 4\n",
    "            #x = x.unsqueeze_(3).expand(-1, -1, -1, bigT, -1)\n",
    "            #meshgrid = get_meshgrid(x.shape, tstep).to(torch.device('cuda'))\n",
    "            #x = torch.concat((x, meshgrid), dim=-1) # [B, X, Y, T, 3 + T_in]\n",
    "            #y_hat = model(x)\n",
    "            break\n",
    "            \n",
    "elif modeltype == 'UNet':\n",
    "    # rollout code for the UNet model\n",
    "    model.eval()\n",
    "    with torch.no_grad():\n",
    "        for batch_idx, (x, y) in enumerate(trainingDataLoader): # normally validation data\n",
    "        #for batch_idx, (x, y) in enumerate(validationDataLoader):\n",
    "            x, y = x.to(device), y.to(device)\n",
    "            out = x.clone()\n",
    "            for tstep in range(1, 5):\n",
    "                \n",
    "                x.unsqueeze_(1)\n",
    "                y_hat = model(x)\n",
    "                x = y_hat\n",
    "                out = torch.cat((out, x.clone()), dim=-1) \n",
    "            break\n",
    "else:\n",
    "    print('Model type not recognized')\n"
   ]
  },
  {
   "cell_type": "code",
   "execution_count": 25,
   "metadata": {},
   "outputs": [],
   "source": [
    "#%matplotlib widget\n",
    "#sliderPlot(y, y_hat, batchSize=6, colormap='turbo')"
   ]
  },
  {
   "cell_type": "code",
   "execution_count": 26,
   "metadata": {},
   "outputs": [
    {
     "data": {
      "text/plain": [
       "(torch.Size([32, 32, 32, 50]), torch.Size([8, 32, 32, 50]))"
      ]
     },
     "execution_count": 26,
     "metadata": {},
     "output_type": "execute_result"
    }
   ],
   "source": [
    "fullTrainingData.shape, out.shape"
   ]
  },
  {
   "cell_type": "code",
   "execution_count": 27,
   "metadata": {},
   "outputs": [
    {
     "name": "stderr",
     "output_type": "stream",
     "text": [
      "MovieWriter ffmpeg unavailable; using Pillow instead.\n",
      "MovieWriter ffmpeg unavailable; using Pillow instead.\n",
      "MovieWriter ffmpeg unavailable; using Pillow instead.\n",
      "MovieWriter ffmpeg unavailable; using Pillow instead.\n",
      "MovieWriter ffmpeg unavailable; using Pillow instead.\n",
      "MovieWriter ffmpeg unavailable; using Pillow instead.\n",
      "MovieWriter ffmpeg unavailable; using Pillow instead.\n",
      "MovieWriter ffmpeg unavailable; using Pillow instead.\n",
      "MovieWriter ffmpeg unavailable; using Pillow instead.\n",
      "MovieWriter ffmpeg unavailable; using Pillow instead.\n",
      "MovieWriter ffmpeg unavailable; using Pillow instead.\n",
      "MovieWriter ffmpeg unavailable; using Pillow instead.\n",
      "MovieWriter ffmpeg unavailable; using Pillow instead.\n",
      "MovieWriter ffmpeg unavailable; using Pillow instead.\n",
      "MovieWriter ffmpeg unavailable; using Pillow instead.\n",
      "MovieWriter ffmpeg unavailable; using Pillow instead.\n"
     ]
    }
   ],
   "source": [
    "\n",
    "#for batchNumber in range(out.shape[0]):\n",
    "#    createGif(out[batchNumber,:,:,:].cpu(), modeltype + str(batchNumber), 'turbo')\n",
    "#for batchNumber in range(out.shape[0]):\n",
    "#    createGif(fullValidationData[batchNumber,:,:,:], \"GroundTruth\" + str(batchNumber), 'turbo')\n",
    "for batchNumber in range(out.shape[0]):\n",
    "    createGif(out[batchNumber,:,:,:].cpu(), 'train_' + modeltype + str(batchNumber), 'turbo')\n",
    "for batchNumber in range(out.shape[0]):\n",
    "    createGif(fullTrainingData[batchNumber,:,:,:], \"train_GroundTruth\" + str(batchNumber), 'turbo')\n"
   ]
  },
  {
   "cell_type": "code",
   "execution_count": 28,
   "metadata": {},
   "outputs": [],
   "source": [
    "# code from chatGPT\n",
    "\n",
    "from PIL import Image, ImageSequence, ImageDraw, ImageFont\n",
    "\n",
    "def combine_gifs_with_titles(gif_paths, titles, output_path):\n",
    "    gifs = [Image.open(gif) for gif in gif_paths]\n",
    "\n",
    "    # Check if all GIFs have the same number of frames\n",
    "    frame_counts = [len(list(ImageSequence.Iterator(gif))) for gif in gifs]\n",
    "    #print(set(frame_counts))\n",
    "    if len(set(frame_counts)) > 1:\n",
    "        raise ValueError(\"All GIFs must have the same number of frames.\")\n",
    "\n",
    "    # Get dimensions for combining\n",
    "    widths, heights = zip(*(gif.size for gif in gifs))\n",
    "    total_width = sum(widths)\n",
    "    max_height = max(heights)\n",
    "    title_height = 30  # Height for the title bar\n",
    "\n",
    "    combined_frames = []\n",
    "\n",
    "    # Font setup (default font)\n",
    "    try:\n",
    "        font = ImageFont.truetype(\"arialbd.ttf\", 25)  # Use a system font\n",
    "    except IOError:\n",
    "        font = ImageFont.load_default()  # Fallback if the font isn't available\n",
    "\n",
    "    for frames in zip(*(ImageSequence.Iterator(gif) for gif in gifs)):\n",
    "        # Create a new blank image for the combined frame\n",
    "        combined_frame = Image.new(\"RGBA\", (total_width, max_height + title_height), (255, 255, 255, 255))\n",
    "\n",
    "        # Draw titles\n",
    "        draw = ImageDraw.Draw(combined_frame)\n",
    "        x_offset = 0\n",
    "        for title, width in zip(titles, widths):\n",
    "            # Calculate text dimensions using textbbox\n",
    "            text_bbox = draw.textbbox((0, 0), title, font=font)\n",
    "            text_width = text_bbox[2] - text_bbox[0]\n",
    "            text_height = text_bbox[3] - text_bbox[1]\n",
    "\n",
    "            text_x = x_offset + (width - text_width) // 2\n",
    "            draw.text((text_x, (title_height - text_height) // 2), title, fill=\"black\", font=font)\n",
    "            x_offset += width\n",
    "\n",
    "        # Paste each frame below the title bar\n",
    "        x_offset = 0\n",
    "        for frame in frames:\n",
    "            combined_frame.paste(frame, (x_offset, title_height))\n",
    "            x_offset += frame.width\n",
    "\n",
    "        combined_frames.append(combined_frame)\n",
    "\n",
    "    # Save the combined GIF\n",
    "    combined_frames[0].save(\n",
    "        output_path,\n",
    "        save_all=True,\n",
    "        append_images=combined_frames[1:],\n",
    "        loop=0,\n",
    "        duration=gifs[0].info['duration']  # Use the frame duration of the first GIF\n",
    "    )\n",
    "\n",
    "# Paths to your GIF files and corresponding titles\n",
    "for gifext in range(out.shape[0]):\n",
    "    fileEnd = str(gifext) + \".gif\"\n",
    "    gif_paths = [\n",
    "        r\"output\\train_FNO\" + fileEnd,\n",
    "        r\"output\\train_GroundTruth\" + fileEnd,\n",
    "        r\"output\\train_UNet\" + fileEnd\n",
    "    ]\n",
    "    titles = [\"FNO\", \"Ground Truth\", \"U-Net\"]\n",
    "    output_path = r\"output\\train_FNO+GT+UNet_\" + str(gifext) + \".gif\"\n",
    "    combine_gifs_with_titles(gif_paths, titles, output_path)\n"
   ]
  }
 ],
 "metadata": {
  "kernelspec": {
   "display_name": "grad311",
   "language": "python",
   "name": "python3"
  },
  "language_info": {
   "codemirror_mode": {
    "name": "ipython",
    "version": 3
   },
   "file_extension": ".py",
   "mimetype": "text/x-python",
   "name": "python",
   "nbconvert_exporter": "python",
   "pygments_lexer": "ipython3",
   "version": "3.11.10"
  }
 },
 "nbformat": 4,
 "nbformat_minor": 2
}
