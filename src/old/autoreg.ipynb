{
 "cells": [
  {
   "cell_type": "code",
   "execution_count": 1,
   "metadata": {},
   "outputs": [
    {
     "name": "stdout",
     "output_type": "stream",
     "text": [
      "C:\\Users\\tphar\n",
      "C:\\Users\\tphar\\Documents\\2024-II\\AutoregressiveNeuralOperators\n"
     ]
    }
   ],
   "source": [
    "import numpy as np\n",
    "import matplotlib.pyplot as plt\n",
    "from matplotlib.widgets import Slider\n",
    "import torch\n",
    "from torch.utils.data import TensorDataset, DataLoader\n",
    "from matplotlib import animation\n",
    "import torch.nn as nn\n",
    "import torch.nn.functional as F\n",
    "import os\n",
    "import wandb\n",
    "import cProfile\n",
    "import pstats\n",
    "\n",
    "from FNO import FNOModel\n",
    "from UNet import UNet3D\n",
    "from utils import *\n",
    "\n",
    "%cd\n",
    "pathToFolder = r'Documents\\2024-II\\AutoregressiveNeuralOperators'\n",
    "%cd $pathToFolder"
   ]
  },
  {
   "cell_type": "markdown",
   "metadata": {},
   "source": [
    "# To do\n",
    "- Investigate OG dataset\n",
    "- Create FeNics Env Snellius\n",
    "- Use SIMM loss instead of MSE?\n",
    "\n",
    "\n",
    "# Done\n",
    "- Make NS dataset\n",
    "- Make FNO\n",
    "- Make model autoregressive\n",
    "- Rollout -> only loss at final step\n",
    "- Make Simple U-Net\n",
    "- Setup WandB\n",
    "- Get snellius credits\n",
    "- Setup small repo\n",
    "- Test num_workers= and pin_memory=\n",
    "- Create gifmaker\n",
    "- Get OG dataset"
   ]
  },
  {
   "cell_type": "code",
   "execution_count": null,
   "metadata": {},
   "outputs": [
    {
     "data": {
      "text/plain": [
       "(40, 32, 32, 50)"
      ]
     },
     "execution_count": 2,
     "metadata": {},
     "output_type": "execute_result"
    }
   ],
   "source": [
    "pathToData = r'data\\t1-t50VorticityZ-32x32-v1e-3-T50-N40.npy'\n",
    "data = np.load(pathToData)\n",
    "data.shape"
   ]
  },
  {
   "cell_type": "code",
   "execution_count": 3,
   "metadata": {},
   "outputs": [
    {
     "name": "stdout",
     "output_type": "stream",
     "text": [
      "torch.Size([40, 32, 32, 10]) torch.Size([40, 32, 32, 10])\n",
      "40\n"
     ]
    }
   ],
   "source": [
    "tensorFormat = torch.tensor(data, dtype=torch.float32)\n",
    "distribution=[0.8, 0.15, 0.05]\n",
    "timeDistribution=[0.2, 0.8]\n",
    "\n",
    "nSamples = len(tensorFormat)\n",
    "bigT = 10\n",
    "tensorFormatX, tensorFormatY = (\n",
    "    tensorFormat[..., :bigT],\n",
    "    tensorFormat[..., -bigT:],\n",
    ")\n",
    "print(tensorFormatX.shape, tensorFormatY.shape)\n",
    "print(tensorFormat.shape[-1]-bigT)"
   ]
  },
  {
   "cell_type": "code",
   "execution_count": 34,
   "metadata": {},
   "outputs": [
    {
     "name": "stdout",
     "output_type": "stream",
     "text": [
      "torch.Size([32, 32, 32, 10]) torch.Size([6, 32, 32, 10]) torch.Size([2, 32, 32, 10])\n",
      "torch.Size([32, 32, 32, 10]) torch.Size([6, 32, 32, 10]) torch.Size([2, 32, 32, 10])\n"
     ]
    }
   ],
   "source": [
    "trainingIdx, validationIdx, _ = [int(nSamples * k) for k in distribution]\n",
    "trainingX, validationX, testX = (\n",
    "    tensorFormatX[:trainingIdx, ...],\n",
    "    tensorFormatX[trainingIdx : trainingIdx + validationIdx, ...],\n",
    "    tensorFormatX[trainingIdx + validationIdx :, ...],\n",
    ")\n",
    "\n",
    "trainingY, validationY, testY = (\n",
    "    tensorFormatY[:trainingIdx, ...],\n",
    "    tensorFormatY[trainingIdx : trainingIdx + validationIdx, ...],\n",
    "    tensorFormatY[trainingIdx + validationIdx :, ...],\n",
    ")\n",
    "print(trainingX.shape, validationX.shape, testX.shape)\n",
    "print(trainingY.shape, validationY.shape, testY.shape)\n",
    "\n",
    "fullValidationData = tensorFormat[trainingIdx : trainingIdx + validationIdx, ...]"
   ]
  },
  {
   "cell_type": "code",
   "execution_count": 5,
   "metadata": {},
   "outputs": [
    {
     "name": "stdout",
     "output_type": "stream",
     "text": [
      "torch.Size([32, 32, 32, 10]) torch.Size([32, 32, 32, 10])\n"
     ]
    }
   ],
   "source": [
    "#trainingX = trainingX.unsqueeze_(3).expand(-1, -1, -1, bigT, -1)\n",
    "training = TensorDataset(trainingX, trainingY)\n",
    "print(trainingX.shape, trainingY.shape)\n",
    "\n",
    "#validationX = validationX.unsqueeze_(3).expand(-1, -1, -1, bigT, -1)\n",
    "validation = TensorDataset(validationX, validationY)\n",
    "\n",
    "#testX = testX.unsqueeze_(3).expand(-1, -1, -1, bigT, -1)\n",
    "test = TensorDataset(testX, testY)"
   ]
  },
  {
   "cell_type": "code",
   "execution_count": 6,
   "metadata": {},
   "outputs": [],
   "source": [
    "gpuForLoader = [False, True]\n",
    "workers = [1,1,2,4,8,12]\n",
    "#numworkersTest(training, workers, 8)"
   ]
  },
  {
   "cell_type": "code",
   "execution_count": 7,
   "metadata": {},
   "outputs": [],
   "source": [
    "batchSize = 8\n",
    "shuffleTraining = True\n",
    "trainingDataLoader = DataLoader(\n",
    "    training, batch_size=batchSize, shuffle=shuffleTraining, num_workers=1, pin_memory=True#2\n",
    ")\n",
    "\n",
    "validationDataLoader = DataLoader(\n",
    "    validation, batch_size=batchSize, shuffle=False, num_workers=1, pin_memory=True\n",
    ")\n",
    "\n",
    "testDataLoader = DataLoader(\n",
    "    test, batch_size=batchSize, shuffle=False, num_workers=1, pin_memory=True)"
   ]
  },
  {
   "cell_type": "code",
   "execution_count": 8,
   "metadata": {},
   "outputs": [
    {
     "data": {
      "image/png": "[encoded data removed]",
      "text/plain": [
       "<Figure size 1000x500 with 8 Axes>"
      ]
     },
     "metadata": {},
     "output_type": "display_data"
    }
   ],
   "source": [
    "fig, ax = plt.subplots(2, 4, figsize=(10, 5))\n",
    "ax[0,0].imshow(trainingX[0, :, :, 0], cmap='viridis')\n",
    "ax[0,1].imshow(trainingX[0, :, :, 1], cmap='viridis')\n",
    "ax[0,2].imshow(trainingX[0, :, :, 2], cmap='viridis')\n",
    "ax[0,3].imshow(trainingX[0, :, :, 3], cmap='viridis')\n",
    "ax[1,0].imshow(trainingY[0, :, :, 0], cmap='viridis')\n",
    "ax[1,1].imshow(trainingY[0, :, :, 1], cmap='viridis')\n",
    "ax[1,2].imshow(trainingY[0, :, :, 5], cmap='viridis')\n",
    "ax[1,3].imshow(trainingY[0, :, :, 9], cmap='viridis')\n",
    "plt.tight_layout()\n",
    "plt.show()"
   ]
  },
  {
   "cell_type": "code",
   "execution_count": 40,
   "metadata": {},
   "outputs": [],
   "source": [
    "modeltype = 'FNO'\n",
    "model = FNOModel(\n",
    "    in_neurons=20, hidden_neurons=20, out_neurons=20, modesSpace=8, modesTime=8, time_padding=8, input_size = 13, \n",
    "    learning_rate=0.001, restart_at_epoch_n=0, train_loader=trainingDataLoader, loss_function='MSE'\n",
    ")\n",
    "device = torch.device(\"cuda\" if torch.cuda.is_available() else \"cpu\")\n",
    "model.to(device)\n",
    "model.optimizer = torch.optim.Adam(model.parameters())"
   ]
  },
  {
   "cell_type": "code",
   "execution_count": null,
   "metadata": {},
   "outputs": [
    {
     "ename": "AttributeError",
     "evalue": "'UNet3D' object has no attribute 'learning_rate'",
     "output_type": "error",
     "traceback": [
      "\u001b[1;31m---------------------------------------------------------------------------\u001b[0m",
      "\u001b[1;31mAttributeError\u001b[0m                            Traceback (most recent call last)",
      "Cell \u001b[1;32mIn[37], line 5\u001b[0m\n\u001b[0;32m      1\u001b[0m \u001b[38;5;66;03m# Initialize wandb run\u001b[39;00m\n\u001b[0;32m      2\u001b[0m epochs \u001b[38;5;241m=\u001b[39m \u001b[38;5;241m20\u001b[39m\n\u001b[0;32m      3\u001b[0m wandb\u001b[38;5;241m.\u001b[39minit(project\u001b[38;5;241m=\u001b[39m\u001b[38;5;124m\"\u001b[39m\u001b[38;5;124mtestFNO\u001b[39m\u001b[38;5;124m\"\u001b[39m, config\u001b[38;5;241m=\u001b[39m{\n\u001b[0;32m      4\u001b[0m     \u001b[38;5;124m\"\u001b[39m\u001b[38;5;124mepochs\u001b[39m\u001b[38;5;124m\"\u001b[39m: epochs,\n\u001b[1;32m----> 5\u001b[0m     \u001b[38;5;124m\"\u001b[39m\u001b[38;5;124mlearning_rate\u001b[39m\u001b[38;5;124m\"\u001b[39m: \u001b[43mmodel\u001b[49m\u001b[38;5;241;43m.\u001b[39;49m\u001b[43mlearning_rate\u001b[49m,\n\u001b[0;32m      6\u001b[0m     \u001b[38;5;124m\"\u001b[39m\u001b[38;5;124mloss_function\u001b[39m\u001b[38;5;124m\"\u001b[39m: model\u001b[38;5;241m.\u001b[39mloss_name,\n\u001b[0;32m      7\u001b[0m })\n\u001b[0;32m      9\u001b[0m \u001b[38;5;28;01mfor\u001b[39;00m epoch \u001b[38;5;129;01min\u001b[39;00m \u001b[38;5;28mrange\u001b[39m(epochs):\n\u001b[0;32m     10\u001b[0m     train_loss \u001b[38;5;241m=\u001b[39m \u001b[38;5;241m0\u001b[39m\n",
      "File \u001b[1;32mc:\\Users\\tphar\\.conda\\envs\\DSAI\\Lib\\site-packages\\torch\\nn\\modules\\module.py:1729\u001b[0m, in \u001b[0;36mModule.__getattr__\u001b[1;34m(self, name)\u001b[0m\n\u001b[0;32m   1727\u001b[0m     \u001b[38;5;28;01mif\u001b[39;00m name \u001b[38;5;129;01min\u001b[39;00m modules:\n\u001b[0;32m   1728\u001b[0m         \u001b[38;5;28;01mreturn\u001b[39;00m modules[name]\n\u001b[1;32m-> 1729\u001b[0m \u001b[38;5;28;01mraise\u001b[39;00m \u001b[38;5;167;01mAttributeError\u001b[39;00m(\u001b[38;5;124mf\u001b[39m\u001b[38;5;124m\"\u001b[39m\u001b[38;5;124m'\u001b[39m\u001b[38;5;132;01m{\u001b[39;00m\u001b[38;5;28mtype\u001b[39m(\u001b[38;5;28mself\u001b[39m)\u001b[38;5;241m.\u001b[39m\u001b[38;5;18m__name__\u001b[39m\u001b[38;5;132;01m}\u001b[39;00m\u001b[38;5;124m'\u001b[39m\u001b[38;5;124m object has no attribute \u001b[39m\u001b[38;5;124m'\u001b[39m\u001b[38;5;132;01m{\u001b[39;00mname\u001b[38;5;132;01m}\u001b[39;00m\u001b[38;5;124m'\u001b[39m\u001b[38;5;124m\"\u001b[39m)\n",
      "\u001b[1;31mAttributeError\u001b[0m: 'UNet3D' object has no attribute 'learning_rate'"
     ]
    }
   ],
   "source": [
    "epochs = 30\n",
    "wandb.init(project=\"testFNO\", config={\n",
    "    \"epochs\": epochs,\n",
    "    \"learning_rate\": model.learning_rate,\n",
    "    \"loss_function\": model.loss_name,\n",
    "})\n",
    "\n",
    "for epoch in range(epochs):\n",
    "    train_loss = 0\n",
    "    model.train()\n",
    "    for batch_idx, (x, y) in enumerate(trainingDataLoader):\n",
    "        x, y = x.to(device), y.to(device)\n",
    "        #print(x.shape)\n",
    "        \n",
    "        with torch.no_grad():\n",
    "            for tstep in range(1, 4):\n",
    "                \n",
    "                x = x.unsqueeze_(3).expand(-1, -1, -1, bigT, -1)\n",
    "                meshgrid = get_meshgrid(x.shape, tstep).to(x.device)\n",
    "                x = torch.concat((x, meshgrid), dim=-1)  # [B, X, Y, T, 3 + T_in]\n",
    "                y_hat = model(x)\n",
    "                x = y_hat  \n",
    "        \n",
    "        tstep = 4\n",
    "        x = x.unsqueeze_(3).expand(-1, -1, -1, bigT, -1)\n",
    "        meshgrid = get_meshgrid(x.shape, tstep).to(x.device)\n",
    "        x = torch.concat((x, meshgrid), dim=-1) \n",
    "        \n",
    "        model.optimizer.zero_grad()\n",
    "        y_hat = model(x)\n",
    "        train_loss = model.loss_function(y_hat, y)\n",
    "        train_loss.backward()\n",
    "        model.optimizer.step()\n",
    "        \n",
    "        train_loss += train_loss.item()  \n",
    "    avg_train_loss = train_loss / len(trainingDataLoader)\n",
    "    print(train_loss, len(trainingDataLoader))\n",
    "\n",
    "    model.eval()\n",
    "    mean_val_loss = 0\n",
    "    with torch.no_grad():\n",
    "        for batch_idx, (x, y) in enumerate(validationDataLoader):\n",
    "            #print(x.shape)\n",
    "            x, y = x.to(device), y.to(device)\n",
    "            for tstep in range(1, 5):\n",
    "                x = x.unsqueeze_(3).expand(-1, -1, -1, bigT, -1)\n",
    "                meshgrid = get_meshgrid(x.shape, tstep).to(x.device)\n",
    "                x = torch.concat((x, meshgrid), dim=-1) \n",
    "                y_hat = model(x)\n",
    "                x = y_hat \n",
    "\n",
    "            val_loss = model.loss_function(y_hat, y)\n",
    "            val_loss += val_loss.item()\n",
    "        avg_val_loss = val_loss / len(validationDataLoader)\n",
    "    print(val_loss, len(validationDataLoader))\n",
    "\n",
    "    wandb.log({\n",
    "            \"epoch\": epoch + 1,\n",
    "            \"train_loss\": avg_train_loss,\n",
    "            \"val_loss\": avg_val_loss,\n",
    "        })\n",
    "\n",
    "    print(f\"Epoch [{epoch+1}/{epochs}] - Train Loss: {avg_train_loss:.4f} - Val Loss: {avg_val_loss:.4f}\")\n",
    "\n",
    "wandb.finish()\n"
   ]
  },
  {
   "cell_type": "code",
   "execution_count": 9,
   "metadata": {},
   "outputs": [
    {
     "name": "stdout",
     "output_type": "stream",
     "text": [
      "Input shape: torch.Size([4, 1, 32, 32, 10]), Output shape: torch.Size([4, 32, 32, 10])\n"
     ]
    }
   ],
   "source": [
    "modeltype = 'UNet'\n",
    "model = UNet3D(in_neurons=1, out_neurons=1)\n",
    "x = torch.randn(4, 32, 32, 10) \n",
    "x.unsqueeze_(1) # add dimension for the channels\n",
    "output = model(x)\n",
    "print(f\"Input shape: {x.shape}, Output shape: {output.shape}\")\n",
    "\n",
    "device = torch.device(\"cuda\" if torch.cuda.is_available() else \"cpu\")\n",
    "model.to(device)\n",
    "model.optimizer = torch.optim.Adam(model.parameters())\n"
   ]
  },
  {
   "cell_type": "code",
   "execution_count": null,
   "metadata": {},
   "outputs": [
    {
     "name": "stderr",
     "output_type": "stream",
     "text": [
      "wandb: Using wandb-core as the SDK backend.  Please refer to https://wandb.me/wandb-core for more information.\n",
      "wandb: Currently logged in as: tpharmsen (tpharmsen-tue). Use `wandb login --relogin` to force relogin\n"
     ]
    },
    {
     "data": {
      "text/html": [
       "Tracking run with wandb version 0.18.7"
      ],
      "text/plain": [
       "<IPython.core.display.HTML object>"
      ]
     },
     "metadata": {},
     "output_type": "display_data"
    },
    {
     "data": {
      "text/html": [
       "Run data is saved locally in <code>c:\\Users\\tphar\\Documents\\2024-II\\Fourier-Neural-Operator\\wandb\\run-20241126_132507-xh9lctti</code>"
      ],
      "text/plain": [
       "<IPython.core.display.HTML object>"
      ]
     },
     "metadata": {},
     "output_type": "display_data"
    },
    {
     "data": {
      "text/html": [
       "Syncing run <strong><a href='https://wandb.ai/tpharmsen-tue/testUNet/runs/xh9lctti' target=\"_blank\">swift-serenity-21</a></strong> to <a href='https://wandb.ai/tpharmsen-tue/testUNet' target=\"_blank\">Weights & Biases</a> (<a href='https://wandb.me/developer-guide' target=\"_blank\">docs</a>)<br/>"
      ],
      "text/plain": [
       "<IPython.core.display.HTML object>"
      ]
     },
     "metadata": {},
     "output_type": "display_data"
    },
    {
     "data": {
      "text/html": [
       " View project at <a href='https://wandb.ai/tpharmsen-tue/testUNet' target=\"_blank\">https://wandb.ai/tpharmsen-tue/testUNet</a>"
      ],
      "text/plain": [
       "<IPython.core.display.HTML object>"
      ]
     },
     "metadata": {},
     "output_type": "display_data"
    },
    {
     "data": {
      "text/html": [
       " View run at <a href='https://wandb.ai/tpharmsen-tue/testUNet/runs/xh9lctti' target=\"_blank\">https://wandb.ai/tpharmsen-tue/testUNet/runs/xh9lctti</a>"
      ],
      "text/plain": [
       "<IPython.core.display.HTML object>"
      ]
     },
     "metadata": {},
     "output_type": "display_data"
    },
    {
     "name": "stdout",
     "output_type": "stream",
     "text": [
      "Epoch [1/200] - Train Loss: 0.4727 - Val Loss: 303423136.0000\n",
      "Epoch [2/200] - Train Loss: 0.3779 - Val Loss: 29.2195\n",
      "Epoch [3/200] - Train Loss: 0.3221 - Val Loss: 33511886.0000\n",
      "Epoch [4/200] - Train Loss: 0.3065 - Val Loss: 32810558.0000\n",
      "Epoch [5/200] - Train Loss: 0.3357 - Val Loss: 1846.0900\n",
      "Epoch [6/200] - Train Loss: 0.2920 - Val Loss: 1.6946\n",
      "Epoch [7/200] - Train Loss: 0.2946 - Val Loss: 1.8145\n",
      "Epoch [8/200] - Train Loss: 0.2873 - Val Loss: 1.1959\n",
      "Epoch [9/200] - Train Loss: 0.2687 - Val Loss: 1.1471\n",
      "Epoch [10/200] - Train Loss: 0.2640 - Val Loss: 100.5933\n",
      "Epoch [11/200] - Train Loss: 0.2551 - Val Loss: 1.0548\n",
      "Epoch [12/200] - Train Loss: 0.2475 - Val Loss: 1.2287\n",
      "Epoch [13/200] - Train Loss: 0.2587 - Val Loss: 1.0980\n",
      "Epoch [14/200] - Train Loss: 0.2447 - Val Loss: 1.0806\n",
      "Epoch [15/200] - Train Loss: 0.2393 - Val Loss: 1.1372\n",
      "Epoch [16/200] - Train Loss: 0.2474 - Val Loss: 10454.8877\n",
      "Epoch [17/200] - Train Loss: 0.2340 - Val Loss: 1.9593\n",
      "Epoch [18/200] - Train Loss: 0.2301 - Val Loss: 1.2225\n",
      "Epoch [19/200] - Train Loss: 0.2338 - Val Loss: 1.1181\n",
      "Epoch [20/200] - Train Loss: 0.2557 - Val Loss: 1.5915\n",
      "Epoch [21/200] - Train Loss: 0.2581 - Val Loss: 1.1011\n",
      "Epoch [22/200] - Train Loss: 0.2377 - Val Loss: 1.1437\n",
      "Epoch [23/200] - Train Loss: 0.2314 - Val Loss: 1.4575\n",
      "Epoch [24/200] - Train Loss: 0.2417 - Val Loss: 2.6649\n",
      "Epoch [25/200] - Train Loss: 0.2173 - Val Loss: 1.0751\n",
      "Epoch [26/200] - Train Loss: 0.2170 - Val Loss: 1.0286\n",
      "Epoch [27/200] - Train Loss: 0.2371 - Val Loss: 1.0177\n",
      "Epoch [28/200] - Train Loss: 0.2156 - Val Loss: 0.9909\n",
      "Epoch [29/200] - Train Loss: 0.2190 - Val Loss: 0.9120\n",
      "Epoch [30/200] - Train Loss: 0.1942 - Val Loss: 0.8877\n",
      "Epoch [31/200] - Train Loss: 0.2139 - Val Loss: 1.0090\n",
      "Epoch [32/200] - Train Loss: 0.2799 - Val Loss: 1.1426\n",
      "Epoch [33/200] - Train Loss: 0.2831 - Val Loss: 1.0135\n",
      "Epoch [34/200] - Train Loss: 0.2335 - Val Loss: 1.7290\n",
      "Epoch [35/200] - Train Loss: 0.2369 - Val Loss: 0.8832\n",
      "Epoch [36/200] - Train Loss: 0.2499 - Val Loss: 1.3636\n",
      "Epoch [37/200] - Train Loss: 0.3786 - Val Loss: 1.4577\n",
      "Epoch [38/200] - Train Loss: 0.3094 - Val Loss: 1.2573\n",
      "Epoch [39/200] - Train Loss: 0.3049 - Val Loss: 1.9207\n",
      "Epoch [40/200] - Train Loss: 0.2557 - Val Loss: 1.0937\n",
      "Epoch [41/200] - Train Loss: 0.2601 - Val Loss: 0.9769\n",
      "Epoch [42/200] - Train Loss: 0.2358 - Val Loss: 1.0463\n",
      "Epoch [43/200] - Train Loss: 0.2325 - Val Loss: 1.2507\n",
      "Epoch [44/200] - Train Loss: 0.2410 - Val Loss: 0.9883\n",
      "Epoch [45/200] - Train Loss: 0.2310 - Val Loss: 0.9163\n",
      "Epoch [46/200] - Train Loss: 0.2342 - Val Loss: 0.9167\n",
      "Epoch [47/200] - Train Loss: 0.2300 - Val Loss: 0.9177\n",
      "Epoch [48/200] - Train Loss: 0.2229 - Val Loss: 0.8891\n",
      "Epoch [49/200] - Train Loss: 0.2241 - Val Loss: 0.8746\n",
      "Epoch [50/200] - Train Loss: 0.2112 - Val Loss: 0.8802\n",
      "Epoch [51/200] - Train Loss: 0.2202 - Val Loss: 0.8898\n",
      "Epoch [52/200] - Train Loss: 0.2172 - Val Loss: 0.8761\n",
      "Epoch [53/200] - Train Loss: 0.2219 - Val Loss: 0.8776\n",
      "Epoch [54/200] - Train Loss: 0.2146 - Val Loss: 0.8776\n",
      "Epoch [55/200] - Train Loss: 0.2238 - Val Loss: 0.8779\n",
      "Epoch [56/200] - Train Loss: 0.2110 - Val Loss: 0.8688\n",
      "Epoch [57/200] - Train Loss: 0.2154 - Val Loss: 0.8690\n",
      "Epoch [58/200] - Train Loss: 0.2180 - Val Loss: 0.8752\n",
      "Epoch [59/200] - Train Loss: 0.2142 - Val Loss: 0.8775\n",
      "Epoch [60/200] - Train Loss: 0.2213 - Val Loss: 0.8789\n",
      "Epoch [61/200] - Train Loss: 0.2184 - Val Loss: 0.8755\n",
      "Epoch [62/200] - Train Loss: 0.2186 - Val Loss: 0.8677\n",
      "Epoch [63/200] - Train Loss: 0.2201 - Val Loss: 0.8957\n",
      "Epoch [64/200] - Train Loss: 0.2203 - Val Loss: 0.8653\n",
      "Epoch [65/200] - Train Loss: 0.2087 - Val Loss: 0.8846\n",
      "Epoch [66/200] - Train Loss: 0.1988 - Val Loss: 0.9303\n",
      "Epoch [67/200] - Train Loss: 0.1813 - Val Loss: 1.1261\n",
      "Epoch [68/200] - Train Loss: 0.1733 - Val Loss: 1.0342\n",
      "Epoch [69/200] - Train Loss: 0.2097 - Val Loss: 0.9929\n",
      "Epoch [70/200] - Train Loss: 0.2262 - Val Loss: 1.1836\n",
      "Epoch [71/200] - Train Loss: 0.2107 - Val Loss: 0.9832\n",
      "Epoch [72/200] - Train Loss: 0.1883 - Val Loss: 0.8705\n",
      "Epoch [73/200] - Train Loss: 0.1914 - Val Loss: 0.9164\n",
      "Epoch [74/200] - Train Loss: 0.1697 - Val Loss: 0.7958\n",
      "Epoch [75/200] - Train Loss: 0.1694 - Val Loss: 0.7700\n",
      "Epoch [76/200] - Train Loss: 0.1834 - Val Loss: 0.8887\n",
      "Epoch [77/200] - Train Loss: 0.1748 - Val Loss: 0.7063\n",
      "Epoch [78/200] - Train Loss: 0.1381 - Val Loss: 0.6875\n",
      "Epoch [79/200] - Train Loss: 0.1319 - Val Loss: 0.7408\n",
      "Epoch [80/200] - Train Loss: 0.1318 - Val Loss: 0.7492\n",
      "Epoch [81/200] - Train Loss: 0.1416 - Val Loss: 0.7533\n",
      "Epoch [82/200] - Train Loss: 0.1448 - Val Loss: 0.8132\n",
      "Epoch [83/200] - Train Loss: 0.1596 - Val Loss: 0.7803\n",
      "Epoch [84/200] - Train Loss: 0.1250 - Val Loss: 0.7851\n",
      "Epoch [85/200] - Train Loss: 0.1299 - Val Loss: 0.7574\n",
      "Epoch [86/200] - Train Loss: 0.1511 - Val Loss: 0.7110\n",
      "Epoch [87/200] - Train Loss: 0.1294 - Val Loss: 0.7399\n",
      "Epoch [88/200] - Train Loss: 0.1388 - Val Loss: 0.8179\n",
      "Epoch [89/200] - Train Loss: 0.1555 - Val Loss: 0.7637\n",
      "Epoch [90/200] - Train Loss: 0.1231 - Val Loss: 0.8028\n",
      "Epoch [91/200] - Train Loss: 0.1382 - Val Loss: 0.7419\n",
      "Epoch [92/200] - Train Loss: 0.1180 - Val Loss: 0.6653\n",
      "Epoch [93/200] - Train Loss: 0.1096 - Val Loss: 0.8659\n",
      "Epoch [94/200] - Train Loss: 0.1110 - Val Loss: 0.4818\n",
      "Epoch [95/200] - Train Loss: 0.1088 - Val Loss: 0.7406\n",
      "Epoch [96/200] - Train Loss: 0.0871 - Val Loss: 0.4592\n",
      "Epoch [97/200] - Train Loss: 0.0725 - Val Loss: 0.4585\n",
      "Epoch [98/200] - Train Loss: 0.0830 - Val Loss: 0.4033\n",
      "Epoch [99/200] - Train Loss: 0.0733 - Val Loss: 0.3876\n",
      "Epoch [100/200] - Train Loss: 0.0864 - Val Loss: 0.4073\n",
      "Epoch [101/200] - Train Loss: 0.0802 - Val Loss: 0.4060\n",
      "Epoch [102/200] - Train Loss: 0.0907 - Val Loss: 0.3717\n",
      "Epoch [103/200] - Train Loss: 0.0667 - Val Loss: 0.4927\n",
      "Epoch [104/200] - Train Loss: 0.0896 - Val Loss: 0.3722\n",
      "Epoch [105/200] - Train Loss: 0.0621 - Val Loss: 0.4888\n",
      "Epoch [106/200] - Train Loss: 0.0669 - Val Loss: 0.4624\n",
      "Epoch [107/200] - Train Loss: 0.0576 - Val Loss: 0.3843\n",
      "Epoch [108/200] - Train Loss: 0.0864 - Val Loss: 0.3092\n",
      "Epoch [109/200] - Train Loss: 0.0696 - Val Loss: 0.3811\n",
      "Epoch [110/200] - Train Loss: 0.0718 - Val Loss: 0.3455\n",
      "Epoch [111/200] - Train Loss: 0.0676 - Val Loss: 0.3347\n",
      "Epoch [112/200] - Train Loss: 0.0699 - Val Loss: 0.3755\n",
      "Epoch [113/200] - Train Loss: 0.0680 - Val Loss: 0.3616\n",
      "Epoch [114/200] - Train Loss: 0.0718 - Val Loss: 0.4395\n",
      "Epoch [115/200] - Train Loss: 0.0701 - Val Loss: 0.5515\n",
      "Epoch [116/200] - Train Loss: 0.0755 - Val Loss: 0.3685\n",
      "Epoch [117/200] - Train Loss: 0.0625 - Val Loss: 0.4540\n",
      "Epoch [118/200] - Train Loss: 0.0663 - Val Loss: 0.5937\n",
      "Epoch [119/200] - Train Loss: 0.0833 - Val Loss: 0.3015\n",
      "Epoch [120/200] - Train Loss: 0.0638 - Val Loss: 0.3283\n",
      "Epoch [121/200] - Train Loss: 0.0772 - Val Loss: 0.4104\n",
      "Epoch [122/200] - Train Loss: 0.0555 - Val Loss: 0.4314\n",
      "Epoch [123/200] - Train Loss: 0.0537 - Val Loss: 0.2649\n",
      "Epoch [124/200] - Train Loss: 0.0666 - Val Loss: 0.4383\n",
      "Epoch [125/200] - Train Loss: 0.0561 - Val Loss: 0.3440\n",
      "Epoch [126/200] - Train Loss: 0.0541 - Val Loss: 0.3626\n",
      "Epoch [127/200] - Train Loss: 0.0523 - Val Loss: 0.3142\n",
      "Epoch [128/200] - Train Loss: 0.0625 - Val Loss: 0.3743\n",
      "Epoch [129/200] - Train Loss: 0.0550 - Val Loss: 0.3221\n",
      "Epoch [130/200] - Train Loss: 0.0628 - Val Loss: 0.3059\n",
      "Epoch [131/200] - Train Loss: 0.0487 - Val Loss: 0.4224\n",
      "Epoch [132/200] - Train Loss: 0.0539 - Val Loss: 0.2604\n",
      "Epoch [133/200] - Train Loss: 0.0432 - Val Loss: 0.3108\n",
      "Epoch [134/200] - Train Loss: 0.0526 - Val Loss: 0.2576\n",
      "Epoch [135/200] - Train Loss: 0.0477 - Val Loss: 0.2532\n",
      "Epoch [136/200] - Train Loss: 0.0541 - Val Loss: 0.2901\n",
      "Epoch [137/200] - Train Loss: 0.0543 - Val Loss: 0.3440\n",
      "Epoch [138/200] - Train Loss: 0.0609 - Val Loss: 0.4656\n",
      "Epoch [139/200] - Train Loss: 0.0936 - Val Loss: 0.3497\n",
      "Epoch [140/200] - Train Loss: 0.0944 - Val Loss: 0.3694\n",
      "Epoch [141/200] - Train Loss: 0.0563 - Val Loss: 0.2838\n",
      "Epoch [142/200] - Train Loss: 0.0443 - Val Loss: 0.5548\n",
      "Epoch [143/200] - Train Loss: 0.0550 - Val Loss: 0.2948\n",
      "Epoch [144/200] - Train Loss: 0.0524 - Val Loss: 0.3181\n",
      "Epoch [145/200] - Train Loss: 0.0550 - Val Loss: 0.4055\n",
      "Epoch [146/200] - Train Loss: 0.0452 - Val Loss: 0.3933\n",
      "Epoch [147/200] - Train Loss: 0.0572 - Val Loss: 0.4360\n",
      "Epoch [148/200] - Train Loss: 0.0524 - Val Loss: 0.2738\n",
      "Epoch [149/200] - Train Loss: 0.0516 - Val Loss: 0.2736\n",
      "Epoch [150/200] - Train Loss: 0.0564 - Val Loss: 0.2561\n",
      "Epoch [151/200] - Train Loss: 0.0488 - Val Loss: 0.2774\n",
      "Epoch [152/200] - Train Loss: 0.0524 - Val Loss: 0.2497\n",
      "Epoch [153/200] - Train Loss: 0.0566 - Val Loss: 0.3026\n",
      "Epoch [154/200] - Train Loss: 0.0629 - Val Loss: 0.3656\n",
      "Epoch [155/200] - Train Loss: 0.0568 - Val Loss: 0.2641\n",
      "Epoch [156/200] - Train Loss: 0.0423 - Val Loss: 0.3433\n",
      "Epoch [157/200] - Train Loss: 0.0441 - Val Loss: 0.2599\n",
      "Epoch [158/200] - Train Loss: 0.0365 - Val Loss: 0.2380\n",
      "Epoch [159/200] - Train Loss: 0.0378 - Val Loss: 0.2584\n",
      "Epoch [160/200] - Train Loss: 0.0436 - Val Loss: 0.2551\n",
      "Epoch [161/200] - Train Loss: 0.0633 - Val Loss: 0.2675\n",
      "Epoch [162/200] - Train Loss: 0.0491 - Val Loss: 0.1988\n",
      "Epoch [163/200] - Train Loss: 0.0494 - Val Loss: 0.3433\n",
      "Epoch [164/200] - Train Loss: 0.0646 - Val Loss: 0.6572\n",
      "Epoch [165/200] - Train Loss: 0.0517 - Val Loss: 0.2566\n",
      "Epoch [166/200] - Train Loss: 0.0706 - Val Loss: 0.4950\n",
      "Epoch [167/200] - Train Loss: 0.0715 - Val Loss: 0.3396\n",
      "Epoch [168/200] - Train Loss: 0.0632 - Val Loss: 0.3002\n",
      "Epoch [169/200] - Train Loss: 0.0424 - Val Loss: 0.2600\n",
      "Epoch [170/200] - Train Loss: 0.0371 - Val Loss: 0.2462\n",
      "Epoch [171/200] - Train Loss: 0.0374 - Val Loss: 0.4256\n",
      "Epoch [172/200] - Train Loss: 0.0453 - Val Loss: 0.2473\n",
      "Epoch [173/200] - Train Loss: 0.0344 - Val Loss: 0.2976\n",
      "Epoch [174/200] - Train Loss: 0.0443 - Val Loss: 0.2718\n",
      "Epoch [175/200] - Train Loss: 0.0393 - Val Loss: 0.3457\n",
      "Epoch [176/200] - Train Loss: 0.0370 - Val Loss: 0.2603\n",
      "Epoch [177/200] - Train Loss: 0.0358 - Val Loss: 0.2409\n",
      "Epoch [178/200] - Train Loss: 0.0434 - Val Loss: 0.2869\n",
      "Epoch [179/200] - Train Loss: 0.0302 - Val Loss: 0.2644\n",
      "Epoch [180/200] - Train Loss: 0.0396 - Val Loss: 0.2302\n",
      "Epoch [181/200] - Train Loss: 0.0360 - Val Loss: 0.2374\n",
      "Epoch [182/200] - Train Loss: 0.0328 - Val Loss: 0.2544\n",
      "Epoch [183/200] - Train Loss: 0.0436 - Val Loss: 0.2506\n",
      "Epoch [184/200] - Train Loss: 0.0291 - Val Loss: 0.3903\n",
      "Epoch [185/200] - Train Loss: 0.0333 - Val Loss: 0.3034\n",
      "Epoch [186/200] - Train Loss: 0.0712 - Val Loss: 0.2543\n",
      "Epoch [187/200] - Train Loss: 0.0483 - Val Loss: 0.2870\n",
      "Epoch [188/200] - Train Loss: 0.0639 - Val Loss: 0.2492\n",
      "Epoch [189/200] - Train Loss: 0.0530 - Val Loss: 0.2426\n",
      "Epoch [190/200] - Train Loss: 0.0553 - Val Loss: 0.2829\n",
      "Epoch [191/200] - Train Loss: 0.0421 - Val Loss: 0.3318\n",
      "Epoch [192/200] - Train Loss: 0.0374 - Val Loss: 0.2675\n",
      "Epoch [193/200] - Train Loss: 0.0340 - Val Loss: 0.2185\n",
      "Epoch [194/200] - Train Loss: 0.0423 - Val Loss: 0.2570\n",
      "Epoch [195/200] - Train Loss: 0.0313 - Val Loss: 0.2456\n",
      "Epoch [196/200] - Train Loss: 0.0557 - Val Loss: 0.2511\n",
      "Epoch [197/200] - Train Loss: 0.0357 - Val Loss: 0.2808\n",
      "Epoch [198/200] - Train Loss: 0.0480 - Val Loss: 0.2476\n",
      "Epoch [199/200] - Train Loss: 0.0412 - Val Loss: 0.2756\n",
      "Epoch [200/200] - Train Loss: 0.0403 - Val Loss: 0.2749\n"
     ]
    },
    {
     "data": {
      "text/html": [
       "\n",
       "    <style>\n",
       "        .wandb-row {\n",
       "            display: flex;\n",
       "            flex-direction: row;\n",
       "            flex-wrap: wrap;\n",
       "            justify-content: flex-start;\n",
       "            width: 100%;\n",
       "        }\n",
       "        .wandb-col {\n",
       "            display: flex;\n",
       "            flex-direction: column;\n",
       "            flex-basis: 100%;\n",
       "            flex: 1;\n",
       "            padding: 10px;\n",
       "        }\n",
       "    </style>\n",
       "<div class=\"wandb-row\"><div class=\"wandb-col\"><h3>Run history:</h3><br/><table class=\"wandb\"><tr><td>epoch</td><td>▁▁▂▂▂▂▂▂▂▂▃▃▃▃▃▄▄▄▄▄▅▅▅▅▆▆▆▆▆▆▇▇▇▇▇▇████</td></tr><tr><td>train_loss</td><td>█▆▆▅▅▄▅▅▇▆▅▅▅▅▄▄▃▃▃▃▂▂▂▂▂▂▂▁▂▁▁▁▁▁▁▁▁▁▁▁</td></tr><tr><td>val_loss</td><td>█▁▁▁▁▁▁▁▁▁▁▁▁▁▁▁▁▁▁▁▁▁▁▁▁▁▁▁▁▁▁▁▁▁▁▁▁▁▁▁</td></tr></table><br/></div><div class=\"wandb-col\"><h3>Run summary:</h3><br/><table class=\"wandb\"><tr><td>epoch</td><td>200</td></tr><tr><td>train_loss</td><td>0.04028</td></tr><tr><td>val_loss</td><td>0.27493</td></tr></table><br/></div></div>"
      ],
      "text/plain": [
       "<IPython.core.display.HTML object>"
      ]
     },
     "metadata": {},
     "output_type": "display_data"
    },
    {
     "data": {
      "text/html": [
       " View run <strong style=\"color:#cdcd00\">swift-serenity-21</strong> at: <a href='https://wandb.ai/tpharmsen-tue/testUNet/runs/xh9lctti' target=\"_blank\">https://wandb.ai/tpharmsen-tue/testUNet/runs/xh9lctti</a><br/> View project at: <a href='https://wandb.ai/tpharmsen-tue/testUNet' target=\"_blank\">https://wandb.ai/tpharmsen-tue/testUNet</a><br/>Synced 5 W&B file(s), 0 media file(s), 0 artifact file(s) and 0 other file(s)"
      ],
      "text/plain": [
       "<IPython.core.display.HTML object>"
      ]
     },
     "metadata": {},
     "output_type": "display_data"
    },
    {
     "data": {
      "text/html": [
       "Find logs at: <code>.\\wandb\\run-20241126_132507-xh9lctti\\logs</code>"
      ],
      "text/plain": [
       "<IPython.core.display.HTML object>"
      ]
     },
     "metadata": {},
     "output_type": "display_data"
    }
   ],
   "source": [
    "epochs = 200\n",
    "wandb.init(project=\"testUNet\", config={\n",
    "    \"epochs\": epochs,\n",
    "    \"loss_function\": model.loss_function, \n",
    "})\n",
    "\n",
    "for epoch in range(epochs):\n",
    "    train_loss = 0\n",
    "    model.train()\n",
    "    for batch_idx, (x, y) in enumerate(trainingDataLoader):\n",
    "        x, y = x.to(device), y.to(device)\n",
    "        #print(x.shape)\n",
    "        \n",
    "        with torch.no_grad():\n",
    "            for tstep in range(1, 4):\n",
    "                # Expand and append meshgrid\n",
    "                #x = x.unsqueeze_(3).expand(-1, -1, -1, bigT, -1)\n",
    "                #meshgrid = get_meshgrid(x.shape, tstep).to(x.device)\n",
    "                #x = torch.concat((x, meshgrid), dim=-1)  # [B, X, Y, T, 3 + T_in]\n",
    "                #print(x.shape)\n",
    "                x.unsqueeze_(1)\n",
    "                y_hat = model(x)\n",
    "                #print(y_hat.shape)\n",
    "                x = y_hat  \n",
    "                \n",
    "        tstep = 4\n",
    "        #x = x.unsqueeze_(3).expand(-1, -1, -1, bigT, -1)\n",
    "        #meshgrid = get_meshgrid(x.shape, tstep).to(x.device)\n",
    "        #x = torch.concat((x, meshgrid), dim=-1)  # [B, X, Y, T, 3 + T_in]\n",
    "        \n",
    "        model.optimizer.zero_grad()\n",
    "        x.unsqueeze_(1)\n",
    "        y_hat = model(x)\n",
    "        #print(y_hat.shape, y.shape)\n",
    "        train_loss = model.loss_function(y_hat, y)\n",
    "        train_loss.backward()\n",
    "        model.optimizer.step()\n",
    "        \n",
    "        train_loss += train_loss.item()  # Accumulate loss for the epoch\n",
    "    avg_train_loss = train_loss / len(trainingDataLoader)\n",
    "    #print(train_loss, len(trainingDataLoader))\n",
    "\n",
    "    model.eval()\n",
    "    mean_val_loss = 0\n",
    "    with torch.no_grad():\n",
    "        for batch_idx, (x, y) in enumerate(validationDataLoader):\n",
    "            #print(x.shape)\n",
    "            x, y = x.to(device), y.to(device)\n",
    "            for tstep in range(1, 5):\n",
    "                #x = x.unsqueeze_(3).expand(-1, -1, -1, bigT, -1)\n",
    "                #meshgrid = get_meshgrid(x.shape, tstep).to(x.device)\n",
    "                #x = torch.concat((x, meshgrid), dim=-1) \n",
    "                x.unsqueeze_(1)\n",
    "                y_hat = model(x)\n",
    "                x = y_hat \n",
    "\n",
    "            val_loss = model.loss_function(y_hat, y)\n",
    "            val_loss += val_loss.item()\n",
    "        avg_val_loss = val_loss / len(validationDataLoader)\n",
    "    #print(val_loss, len(validationDataLoader))\n",
    "\n",
    "    wandb.log({\n",
    "            \"epoch\": epoch + 1,\n",
    "            \"train_loss\": avg_train_loss,\n",
    "            \"val_loss\": avg_val_loss,\n",
    "        })\n",
    "    print(f\"Epoch [{epoch+1}/{epochs}] - Train Loss: {avg_train_loss:.4f} - Val Loss: {avg_val_loss:.4f}\")\n",
    "\n",
    "wandb.finish()"
   ]
  },
  {
   "cell_type": "code",
   "execution_count": null,
   "metadata": {},
   "outputs": [],
   "source": [
    "#torch.save(model.state_dict(), \"models/NS_UNetmodel_v2.pth\")"
   ]
  },
  {
   "cell_type": "code",
   "execution_count": 10,
   "metadata": {},
   "outputs": [
    {
     "name": "stderr",
     "output_type": "stream",
     "text": [
      "C:\\Users\\tphar\\AppData\\Local\\Temp\\ipykernel_16644\\1501870310.py:1: FutureWarning: You are using `torch.load` with `weights_only=False` (the current default value), which uses the default pickle module implicitly. It is possible to construct malicious pickle data which will execute arbitrary code during unpickling (See https://github.com/pytorch/pytorch/blob/main/SECURITY.md#untrusted-models for more details). In a future release, the default value for `weights_only` will be flipped to `True`. This limits the functions that could be executed during unpickling. Arbitrary objects will no longer be allowed to be loaded via this mode unless they are explicitly allowlisted by the user via `torch.serialization.add_safe_globals`. We recommend you start setting `weights_only=True` for any use case where you don't have full control of the loaded file. Please open an issue on GitHub for any issues related to this experimental feature.\n",
      "  model.load_state_dict(torch.load(\"models/NS_UNetmodel_v1.pth\"))\n"
     ]
    },
    {
     "data": {
      "text/plain": [
       "<All keys matched successfully>"
      ]
     },
     "execution_count": 10,
     "metadata": {},
     "output_type": "execute_result"
    }
   ],
   "source": [
    "model.load_state_dict(torch.load(\"models/NS_UNetmodel_v1.pth\"))"
   ]
  },
  {
   "cell_type": "code",
   "execution_count": 41,
   "metadata": {},
   "outputs": [
    {
     "name": "stderr",
     "output_type": "stream",
     "text": [
      "C:\\Users\\tphar\\AppData\\Local\\Temp\\ipykernel_16644\\3855337921.py:1: FutureWarning: You are using `torch.load` with `weights_only=False` (the current default value), which uses the default pickle module implicitly. It is possible to construct malicious pickle data which will execute arbitrary code during unpickling (See https://github.com/pytorch/pytorch/blob/main/SECURITY.md#untrusted-models for more details). In a future release, the default value for `weights_only` will be flipped to `True`. This limits the functions that could be executed during unpickling. Arbitrary objects will no longer be allowed to be loaded via this mode unless they are explicitly allowlisted by the user via `torch.serialization.add_safe_globals`. We recommend you start setting `weights_only=True` for any use case where you don't have full control of the loaded file. Please open an issue on GitHub for any issues related to this experimental feature.\n",
      "  model.load_state_dict(torch.load(\"models/NS_FNOmodel_v1.pth\"))\n"
     ]
    },
    {
     "data": {
      "text/plain": [
       "<All keys matched successfully>"
      ]
     },
     "execution_count": 41,
     "metadata": {},
     "output_type": "execute_result"
    }
   ],
   "source": [
    "model.load_state_dict(torch.load(\"models/NS_FNOmodel_v1.pth\"))"
   ]
  },
  {
   "cell_type": "code",
   "execution_count": 42,
   "metadata": {},
   "outputs": [],
   "source": [
    "# rollout code for the FNO model\n",
    "if modeltype == 'FNO':\n",
    "    model.eval()\n",
    "    with torch.no_grad():\n",
    "        for batch_idx, (x, y) in enumerate(validationDataLoader):\n",
    "            x, y = x.to(device), y.to(device)\n",
    "            out = x.clone()\n",
    "            for tstep in range(1, 5):\n",
    "                x = x.unsqueeze_(3).expand(-1, -1, -1, bigT, -1)\n",
    "                meshgrid = get_meshgrid(x.shape, tstep).to(torch.device('cuda'))\n",
    "                x = torch.concat((x, meshgrid), dim=-1) # [B, X, Y, T, 3 + T_in]\n",
    "                y_hat = model(x)\n",
    "                x = y_hat\n",
    "                out = torch.cat((out, x.clone()), dim=-1)\n",
    "            #tstep = 4\n",
    "            #x = x.unsqueeze_(3).expand(-1, -1, -1, bigT, -1)\n",
    "            #meshgrid = get_meshgrid(x.shape, tstep).to(torch.device('cuda'))\n",
    "            #x = torch.concat((x, meshgrid), dim=-1) # [B, X, Y, T, 3 + T_in]\n",
    "            #y_hat = model(x)\n",
    "            break\n",
    "            \n",
    "elif modeltype == 'UNet':\n",
    "    # rollout code for the UNet model\n",
    "    model.eval()\n",
    "    with torch.no_grad():\n",
    "        for batch_idx, (x, y) in enumerate(validationDataLoader):\n",
    "            x, y = x.to(device), y.to(device)\n",
    "            out = x.clone()\n",
    "            for tstep in range(1, 5):\n",
    "                \n",
    "                x.unsqueeze_(1)\n",
    "                y_hat = model(x)\n",
    "                x = y_hat\n",
    "                out = torch.cat((out, x.clone()), dim=-1) \n",
    "            break\n",
    "else:\n",
    "    print('Model type not recognized')\n"
   ]
  },
  {
   "cell_type": "code",
   "execution_count": 43,
   "metadata": {},
   "outputs": [
    {
     "name": "stderr",
     "output_type": "stream",
     "text": [
      "C:\\Users\\tphar\\AppData\\Local\\Temp\\ipykernel_16644\\2744168080.py:34: UserWarning: This figure includes Axes that are not compatible with tight_layout, so results might be incorrect.\n",
      "  plt.tight_layout()\n"
     ]
    },
    {
     "data": {
      "application/vnd.jupyter.widget-view+json": {
       "model_id": "cb6c1b3798f045f5adb653eb4fb65377",
       "version_major": 2,
       "version_minor": 0
      },
      "image/png": "[encoded data removed]",
      "text/html": [
       "\n",
       "            <div style=\"display: inline-block;\">\n",
       "                <div class=\"jupyter-widgets widget-label\" style=\"text-align: center;\">\n",
       "                    Figure\n",
       "                </div>\n",
       "                <img src='data:image/png;base64,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' width=1500.0/>\n",
       "            </div>\n",
       "        "
      ],
      "text/plain": [
       "Canvas(toolbar=Toolbar(toolitems=[('Home', 'Reset original view', 'home', 'home'), ('Back', 'Back to previous …"
      ]
     },
     "metadata": {},
     "output_type": "display_data"
    }
   ],
   "source": [
    "%matplotlib widget\n",
    "\n",
    "\n",
    "ts = 0\n",
    "batch_idx = 0\n",
    "\n",
    "fig, ax = plt.subplots(1, 3, figsize=(15, 5))\n",
    "plt.subplots_adjust(bottom=0.3)  \n",
    "colormap = 'turbo'\n",
    "im0 = ax[0].imshow(y[batch_idx, :, :, ts].cpu(), cmap=colormap)\n",
    "im1 = ax[1].imshow(y_hat[batch_idx, :, :, ts].cpu().detach(), cmap=colormap)\n",
    "im2 = ax[2].imshow(abs(y[batch_idx, :, :, ts].cpu() - y_hat[batch_idx, :, :, ts].cpu().detach()))\n",
    "\n",
    "ax[0].set_title(\"Ground Truth\")\n",
    "ax[1].set_title(\"Prediction\")\n",
    "ax[2].set_title(\"Absolute Difference\")\n",
    "\n",
    "ax_slider_ts = plt.axes([0.25, 0.15, 0.5, 0.03]) \n",
    "slider_ts = Slider(ax_slider_ts, 'Timestep', 0, 9, valinit=ts, valstep=1)\n",
    "\n",
    "ax_slider_batch = plt.axes([0.25, 0.05, 0.5, 0.03])  \n",
    "slider_batch = Slider(ax_slider_batch, 'Batch Index', 0, y.shape[0] - 1, valinit=batch_idx, valstep=1)\n",
    "\n",
    "def update(val):\n",
    "    ts = int(slider_ts.val)\n",
    "    batch_idx = int(slider_batch.val) \n",
    "    im0.set_data(y[batch_idx, :, :, ts].cpu())\n",
    "    im1.set_data(y_hat[batch_idx, :, :, ts].cpu().detach())\n",
    "    im2.set_data(abs(y[batch_idx, :, :, ts].cpu() - y_hat[batch_idx, :, :, ts].cpu().detach()))\n",
    "    fig.canvas.draw_idle()\n",
    "\n",
    "slider_ts.on_changed(update)\n",
    "slider_batch.on_changed(update)\n",
    "plt.tight_layout()\n",
    "plt.show()\n",
    "\n"
   ]
  },
  {
   "cell_type": "code",
   "execution_count": 44,
   "metadata": {},
   "outputs": [],
   "source": [
    "def createGif(data, filename, colormap='viridis'):\n",
    "    fig = plt.figure(figsize=(5,5))    \n",
    "    cmin= torch.min(data)\n",
    "    cmax = torch.max(data)\n",
    "    im = plt.imshow(data[:, :, 0], \n",
    "                    animated=True,\n",
    "                    cmap=colormap,  \n",
    "                    vmin=cmin, \n",
    "                    vmax=cmax)\n",
    "\n",
    "    plt.tight_layout()\n",
    "    plt.axis('off')\n",
    "\n",
    "    def init():\n",
    "        im.set_data(data[:, :, 0])\n",
    "        return im,\n",
    "\n",
    "    def animate(i):\n",
    "        im.set_array(data[:, :, i])\n",
    "        return im,\n",
    "\n",
    "    anim = animation.FuncAnimation(fig,\n",
    "                                    animate,\n",
    "                                    init_func=init,\n",
    "                                    frames=np.shape(data)[2], \n",
    "                                    interval=100, \n",
    "                                    blit=True)\n",
    "    outputFolder = 'output/'\n",
    "    anim.save(outputFolder + filename + \".gif\")  \n",
    "    plt.close(fig)\n",
    "for batchNumber in range(out.shape[0]):\n",
    "    createGif(out[batchNumber,:,:,:].cpu(), modeltype + str(batchNumber), 'turbo')\n",
    "for batchNumber in range(out.shape[0]):\n",
    "    createGif(fullValidationData[batchNumber,:,:,:], \"GroundTruth\" + str(batchNumber), 'turbo')\n"
   ]
  },
  {
   "cell_type": "code",
   "execution_count": 57,
   "metadata": {},
   "outputs": [],
   "source": [
    "# code from chatGPT\n",
    "\n",
    "from PIL import Image, ImageSequence, ImageDraw, ImageFont\n",
    "\n",
    "def combine_gifs_with_titles(gif_paths, titles, output_path):\n",
    "    gifs = [Image.open(gif) for gif in gif_paths]\n",
    "\n",
    "    # Check if all GIFs have the same number of frames\n",
    "    frame_counts = [len(list(ImageSequence.Iterator(gif))) for gif in gifs]\n",
    "    if len(set(frame_counts)) > 1:\n",
    "        raise ValueError(\"All GIFs must have the same number of frames.\")\n",
    "\n",
    "    # Get dimensions for combining\n",
    "    widths, heights = zip(*(gif.size for gif in gifs))\n",
    "    total_width = sum(widths)\n",
    "    max_height = max(heights)\n",
    "    title_height = 30  # Height for the title bar\n",
    "\n",
    "    combined_frames = []\n",
    "\n",
    "    # Font setup (default font)\n",
    "    try:\n",
    "        font = ImageFont.truetype(\"arialbd.ttf\", 25)  # Use a system font\n",
    "    except IOError:\n",
    "        font = ImageFont.load_default()  # Fallback if the font isn't available\n",
    "\n",
    "    for frames in zip(*(ImageSequence.Iterator(gif) for gif in gifs)):\n",
    "        # Create a new blank image for the combined frame\n",
    "        combined_frame = Image.new(\"RGBA\", (total_width, max_height + title_height), (255, 255, 255, 255))\n",
    "\n",
    "        # Draw titles\n",
    "        draw = ImageDraw.Draw(combined_frame)\n",
    "        x_offset = 0\n",
    "        for title, width in zip(titles, widths):\n",
    "            # Calculate text dimensions using textbbox\n",
    "            text_bbox = draw.textbbox((0, 0), title, font=font)\n",
    "            text_width = text_bbox[2] - text_bbox[0]\n",
    "            text_height = text_bbox[3] - text_bbox[1]\n",
    "\n",
    "            text_x = x_offset + (width - text_width) // 2\n",
    "            draw.text((text_x, (title_height - text_height) // 2), title, fill=\"black\", font=font)\n",
    "            x_offset += width\n",
    "\n",
    "        # Paste each frame below the title bar\n",
    "        x_offset = 0\n",
    "        for frame in frames:\n",
    "            combined_frame.paste(frame, (x_offset, title_height))\n",
    "            x_offset += frame.width\n",
    "\n",
    "        combined_frames.append(combined_frame)\n",
    "\n",
    "    # Save the combined GIF\n",
    "    combined_frames[0].save(\n",
    "        output_path,\n",
    "        save_all=True,\n",
    "        append_images=combined_frames[1:],\n",
    "        loop=0,\n",
    "        duration=gifs[0].info['duration']  # Use the frame duration of the first GIF\n",
    "    )\n",
    "\n",
    "# Paths to your GIF files and corresponding titles\n",
    "for gifext in range(out.shape[0]):\n",
    "    fileEnd = str(gifext) + \".gif\"\n",
    "    gif_paths = [\n",
    "        r\"output\\FNO\" + fileEnd,\n",
    "        r\"output\\GroundTruth\" + fileEnd,\n",
    "        r\"output\\UNet\" + fileEnd\n",
    "    ]\n",
    "    titles = [\"FNO\", \"Ground Truth\", \"U-Net\"]\n",
    "    output_path = r\"output\\FNO+GT+UNet_\" + str(gifext) + \".gif\"\n",
    "    combine_gifs_with_titles(gif_paths, titles, output_path)\n"
   ]
  }
 ],
 "metadata": {
  "kernelspec": {
   "display_name": "grad311",
   "language": "python",
   "name": "python3"
  },
  "language_info": {
   "codemirror_mode": {
    "name": "ipython",
    "version": 3
   },
   "file_extension": ".py",
   "mimetype": "text/x-python",
   "name": "python",
   "nbconvert_exporter": "python",
   "pygments_lexer": "ipython3",
   "version": "3.11.10"
  }
 },
 "nbformat": 4,
 "nbformat_minor": 2
}
