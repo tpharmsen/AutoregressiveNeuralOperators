{
 "cells": [
  {
   "cell_type": "code",
   "execution_count": null,
   "id": "117c4156",
   "metadata": {},
   "outputs": [],
   "source": [
    "import os\n",
    "import subprocess\n",
    "def check_mig_with_smi():\n",
    "    try:\n",
    "        output = subprocess.check_output([\"nvidia-smi\", \"-L\"], text=True)\n",
    "        return \"MIG\" in output\n",
    "    except (subprocess.CalledProcessError, FileNotFoundError):\n",
    "        return False\n",
    "\n",
    "if check_mig_with_smi():\n",
    "    print(\"Running on a GPU MIG instance\")\n",
    "    os.environ[\"CUDA_VISIBLE_DEVICES\"] = \"0\"\n",
    "else:\n",
    "    print(\"Not running on a GPU MIG instance\")"
   ]
  },
  {
   "cell_type": "code",
   "execution_count": null,
   "id": "23927327",
   "metadata": {},
   "outputs": [],
   "source": []
  },
  {
   "cell_type": "code",
   "execution_count": 24,
   "id": "b9edeb29",
   "metadata": {},
   "outputs": [],
   "source": [
    "import torch\n",
    "\n",
    "from modelComp.FluidGPT_B import FluidGPT_B\n",
    "\n",
    "# load yaml file\n",
    "yaml_path = \"../conf/model/std-5.yaml\"\n",
    "import yaml\n",
    "\n",
    "\n",
    "class DotDict(dict):\n",
    "    def __init__(self, mapping=None):\n",
    "        super().__init__()\n",
    "        mapping = mapping or {} \n",
    "        for key, value in mapping.items():\n",
    "            self[key] = DotDict(value) if isinstance(value, dict) else value\n",
    "\n",
    "    def __getattr__(self, key):\n",
    "        try:\n",
    "            return self[key]\n",
    "        except KeyError:\n",
    "            raise AttributeError(f\"Key '{key}' not in config\")\n",
    "\n",
    "    def __setattr__(self, key, value):\n",
    "        self[key] = value\n",
    "\n",
    "def load_yaml_as_dotdict(filepath):\n",
    "    with open(filepath, \"r\") as file:\n",
    "        data = yaml.safe_load(file) or {}  # for if yaml empty lined\n",
    "    return DotDict(data)\n",
    "\n",
    "cm = load_yaml_as_dotdict(yaml_path)"
   ]
  },
  {
   "cell_type": "code",
   "execution_count": 25,
   "id": "0981ef33",
   "metadata": {},
   "outputs": [
    {
     "data": {
      "text/plain": [
       "<All keys matched successfully>"
      ]
     },
     "execution_count": 25,
     "metadata": {},
     "output_type": "execute_result"
    }
   ],
   "source": [
    "model = FluidGPT_B(emb_dim=96,\n",
    "                    data_dim=[64, cm.temporal_bundling, cm.in_channels, 128, 128],\n",
    "                    patch_size=(cm.patch_size, cm.patch_size),\n",
    "                    hiddenout_dim=cm.hiddenout_dim,\n",
    "                    depth=cm.depth,\n",
    "                    stage_depths=cm.stage_depths,\n",
    "                    num_heads=cm.num_heads,\n",
    "                    window_size=cm.window_size,\n",
    "                    use_flex_attn=cm.use_flex_attn\n",
    "                    ).cuda()\n",
    "model.eval()\n",
    "# Load the model weights\n",
    "checkpoint_path = \"C:/Users/20183172/Documents/2024-II/prep/epoch=28-step=563673.ckpt\"\n",
    "checkpoint = torch.load(checkpoint_path, map_location=\"cuda\")\n",
    "state_dict = checkpoint[\"state_dict\"]\n",
    "new_state_dict = {k.replace(\"model.\", \"\"): v for k, v in state_dict.items()}\n",
    "model.load_state_dict(new_state_dict)"
   ]
  },
  {
   "cell_type": "code",
   "execution_count": 4,
   "id": "4489ecb7",
   "metadata": {},
   "outputs": [],
   "source": [
    "x = torch.randn(16, 3, 2, 128, 128).cuda()\n",
    "with torch.no_grad():\n",
    "    y = model(x)"
   ]
  }
 ],
 "metadata": {
  "kernelspec": {
   "display_name": "grad312",
   "language": "python",
   "name": "python3"
  },
  "language_info": {
   "codemirror_mode": {
    "name": "ipython",
    "version": 3
   },
   "file_extension": ".py",
   "mimetype": "text/x-python",
   "name": "python",
   "nbconvert_exporter": "python",
   "pygments_lexer": "ipython3",
   "version": "3.12.9"
  }
 },
 "nbformat": 4,
 "nbformat_minor": 5
}
