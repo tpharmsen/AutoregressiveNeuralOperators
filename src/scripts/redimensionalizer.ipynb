{
 "cells": [
  {
   "cell_type": "code",
   "execution_count": null,
   "metadata": {},
   "outputs": [
    {
     "name": "stdout",
     "output_type": "stream",
     "text": [
      "Scaling completed for all files.\n"
     ]
    }
   ],
   "source": [
    "import os\n",
    "import h5py\n",
    "import torch\n",
    "from pathlib import Path\n",
    "\n",
    "# Parameters\n",
    "data_path = '../../data/PoolBoiling-SubCooled-FC72-2D/'\n",
    "output_path = os.path.join(data_path, 'redimensionalized/')\n",
    "os.makedirs(output_path, exist_ok=True)  # Ensure output directory exists\n",
    "\n",
    "keys_to_copy = [\n",
    "    'real-runtime-params',\n",
    "    'int-runtime-params'\n",
    "]\n",
    "\n",
    "TEMPERATURE = 'temperature'\n",
    "\n",
    "\n",
    "# Process each file in the directory\n",
    "files = [f for f in os.listdir(data_path) if f.endswith('.hdf5')]\n",
    "\n",
    "for file in files:\n",
    "    input_file = os.path.join(data_path, file)\n",
    "    output_file = os.path.join(output_path, file)\n",
    "\n",
    "    with h5py.File(input_file, 'r') as input_data:\n",
    "        # Prepare output HDF5 file\n",
    "        with h5py.File(output_file, 'w') as output_data:\n",
    "            filestem = Path(file).stem\n",
    "            wall_temp = None\n",
    "            TWALL = 'Twall-'\n",
    "\n",
    "            for key in input_data.keys():\n",
    "                dataset = input_data[key][:]\n",
    "                print(f\"Processing key '{key}' in file '{file}' with shape {dataset.shape}\")\n",
    "\n",
    "                # Apply scaling only to the temperature dataset if filename contains 'Twall-'\n",
    "                if key == TEMPERATURE and TWALL in filestem:\n",
    "                    scaling_factor = int(filestem[len(TWALL):])  # Extract scaling factor from filename\n",
    "                    temperature_data = torch.from_numpy(dataset)  # Convert to tensor\n",
    "                    scaled_temperature = temperature_data * scaling_factor  # Apply scaling\n",
    "                    scaled_temperature = scaled_temperature.numpy()  # Convert back to NumPy array\n",
    "                    output_data.create_dataset(TEMPERATURE, data=scaled_temperature)  # Save scaled data\n",
    "                    wall_temp = scaled_temperature.max()\n",
    "                    print(f\"Wall temperature scaling applied with factor {scaling_factor}. Max wall temp: {wall_temp}\")\n",
    "\n",
    "                else:\n",
    "                    # Copy other datasets as-is\n",
    "                    output_data.create_dataset(key, data=dataset)\n",
    "\n",
    "            print(f\"File '{file}' processed and saved to '{output_file}'.\")\n",
    "\n",
    "print(\"Scaling completed for all files.\")\n"
   ]
  }
 ],
 "metadata": {
  "kernelspec": {
   "display_name": "grad",
   "language": "python",
   "name": "python3"
  },
  "language_info": {
   "codemirror_mode": {
    "name": "ipython",
    "version": 3
   },
   "file_extension": ".py",
   "mimetype": "text/x-python",
   "name": "python",
   "nbconvert_exporter": "python",
   "pygments_lexer": "ipython3",
   "version": "3.12.7"
  }
 },
 "nbformat": 4,
 "nbformat_minor": 2
}
