{
 "cells": [
  {
   "cell_type": "code",
   "execution_count": 1,
   "metadata": {},
   "outputs": [
    {
     "data": {
      "text/plain": [
       "'test'"
      ]
     },
     "execution_count": 1,
     "metadata": {},
     "output_type": "execute_result"
    }
   ],
   "source": [
    "import numpy as np\n",
    "import h5py\n",
    "'test'\n"
   ]
  },
  {
   "cell_type": "code",
   "execution_count": 2,
   "metadata": {},
   "outputs": [],
   "source": [
    "def read_amira_binary_mesh(filename):\n",
    "    with open(filename, 'rb') as f:\n",
    "        raw_data = f.read()\n",
    "\n",
    "    # Locate the first occurrence of \"@1\"\n",
    "    first_marker_idx = raw_data.find(b'@1')\n",
    "    if first_marker_idx == -1:\n",
    "        raise ValueError(\"Could not find binary data section in Amira file.\")\n",
    "\n",
    "    # Locate the second occurrence of \"@1\"\n",
    "    second_marker_idx = raw_data.find(b'@1', first_marker_idx + 2)\n",
    "    if second_marker_idx == -1:\n",
    "        raise ValueError(\"Could not find second binary data section in Amira file.\")\n",
    "    \n",
    "    # The second @1 starts right after its occurrence\n",
    "    data_start = second_marker_idx + 4  # Skip '@1\\n'\n",
    "    \n",
    "    # Extract the binary data\n",
    "    #print(raw_data[:data_start])\n",
    "    binary_data = raw_data[data_start:]\n",
    "    #print(binary_data[:100])\n",
    "\n",
    "    # Define shape (from header: 512 x 512 x 1001, 2 channels per voxel)\n",
    "    #lattice_shape = (512, 512, 1001, 2)\n",
    "    lattice_shape = (1001, 512, 512, 2)\n",
    "\n",
    "    # Read as float32 (Little-Endian)\n",
    "    #float_data = np.frombuffer(binary_data, dtype=np.float32, count=1000)\n",
    "    float_data = np.frombuffer(binary_data, dtype=np.float32)#, count=512*512)\n",
    "    #print(float_data[:100])\n",
    "    # Reshape\n",
    "    float_data = float_data.reshape(lattice_shape)\n",
    "\n",
    "    return float_data"
   ]
  },
  {
   "cell_type": "code",
   "execution_count": 7,
   "metadata": {},
   "outputs": [
    {
     "name": "stdout",
     "output_type": "stream",
     "text": [
      "-3.9529707e-05\n",
      "0.0049126064\n"
     ]
    }
   ],
   "source": [
    "files = ['0000.am', '4400.am']\n",
    "directory = '../../data/'\n",
    "for file in files:\n",
    "    amira_data = read_amira_binary_mesh(directory + file)\n",
    "    #print(amira_data.shape)\n",
    "    print(amira_data[0,:,:,:].mean())\n",
    "\n",
    "    h5_filename = directory + file.replace('.am', '.h5')  \n",
    "    with h5py.File(h5_filename, 'w') as f:\n",
    "        f.create_dataset(file, data=amira_data)"
   ]
  }
 ],
 "metadata": {
  "kernelspec": {
   "display_name": "grad311",
   "language": "python",
   "name": "python3"
  },
  "language_info": {
   "codemirror_mode": {
    "name": "ipython",
    "version": 3
   },
   "file_extension": ".py",
   "mimetype": "text/x-python",
   "name": "python",
   "nbconvert_exporter": "python",
   "pygments_lexer": "ipython3",
   "version": "3.11.11"
  }
 },
 "nbformat": 4,
 "nbformat_minor": 2
}
